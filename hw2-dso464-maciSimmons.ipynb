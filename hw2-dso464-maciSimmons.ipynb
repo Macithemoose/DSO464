{
 "cells": [
  {
   "cell_type": "markdown",
   "metadata": {},
   "source": [
    "# HW 2 - Maci Simmons"
   ]
  },
  {
   "cell_type": "code",
   "execution_count": 1,
   "metadata": {},
   "outputs": [],
   "source": [
    "import os\n",
    "import os.path\n",
    "import time\n",
    "from datetime import datetime\n",
    "\n",
    "import numpy as np\n",
    "import pandas as pd\n",
    "import seaborn as sns\n",
    "import matplotlib.pyplot as plt\n",
    "\n",
    "import tensorflow as tf\n",
    "from sklearn.preprocessing import StandardScaler\n",
    "import cvxpy as cp\n",
    "\n",
    "tf.keras.utils.set_random_seed(42)"
   ]
  },
  {
   "cell_type": "code",
   "execution_count": 2,
   "metadata": {},
   "outputs": [],
   "source": [
    "images_path = 'images/'\n",
    "\n",
    "data_path = 'data/01_part_1/'\n",
    "\n",
    "#tf.keras.preprocessing.image.load_img(os.path.join(images_path, ''))"
   ]
  },
  {
   "cell_type": "markdown",
   "metadata": {},
   "source": [
    "## Data Setup"
   ]
  },
  {
   "cell_type": "markdown",
   "metadata": {},
   "source": [
    "**Features Data:**  \n",
    "\n",
    "Contains data related to the store, department, and regional activity for the given dates, such as:  \n",
    "- store number  \n",
    "- the week   \n",
    "- average temperature in the region  \n",
    "- cost of fuel in the region  \n",
    "- five anonymous variables (called MarkDown 1, 2, 3, 4, 5) related to promotional markdowns that Walmart is running  \n",
    "    - MarkDown data is not available for all stores at all times  \n",
    "- the consumer price index (CPI)  \n",
    "- the unemployment rate  \n",
    "- a binary variable that indicates whether the week is a special holiday or not  \n",
    "\n",
    "\n",
    "the four holidays (Super Bowl, Labor Day, Thanksgiving, Christmas), fall within the following weeks in the data  \n",
    "not all holidays are in the data, and dates are in the form: dd-mm-yy  \n",
    "**Super Bowl**: 12-Feb-10, 11-Feb-11, 10-Feb-12, 8-Feb-13  \n",
    "**Labor Day**: 10-Sep-10, 9-Sep-11, 7-Sep-12, 6-Sep-13  \n",
    "**Thanksgiving**: 26-Nov-10, 25-Nov-11, 23-Nov-12, 29-Nov-13  \n",
    "**Christmas**: 31-Dec-10, 30-Dec-11, 28-Dec-12, 27-Dec-13"
   ]
  },
  {
   "cell_type": "code",
   "execution_count": 3,
   "metadata": {},
   "outputs": [],
   "source": [
    "features_data = pd.read_csv(os.path.join(data_path, 'features.csv'))"
   ]
  },
  {
   "cell_type": "markdown",
   "metadata": {},
   "source": [
    "**Stores Data:**  \n",
    "\n",
    "Contains anonymized information about the 45 stores.  \n",
    "These variables indicate the type of store and the size of the store."
   ]
  },
  {
   "cell_type": "code",
   "execution_count": 4,
   "metadata": {},
   "outputs": [],
   "source": [
    "stores_data = pd.read_csv(os.path.join(data_path, 'stores.csv'))"
   ]
  },
  {
   "cell_type": "markdown",
   "metadata": {},
   "source": [
    "**Train data:**  \n",
    "Contains the labels for the training data.  \n",
    "Covers 2010-02-05 to 2012-11-01.  \n",
    "It includes the store number, the department number, and the date (week).  \n",
    "Weekly sales for the given department in the given store.  \n",
    "It also includes whether the week is a special holiday or not."
   ]
  },
  {
   "cell_type": "code",
   "execution_count": 5,
   "metadata": {},
   "outputs": [],
   "source": [
    "train_data = pd.read_csv(os.path.join(data_path, 'train.csv'))"
   ]
  },
  {
   "cell_type": "code",
   "execution_count": 6,
   "metadata": {},
   "outputs": [
    {
     "data": {
      "text/html": [
       "<div>\n",
       "<style scoped>\n",
       "    .dataframe tbody tr th:only-of-type {\n",
       "        vertical-align: middle;\n",
       "    }\n",
       "\n",
       "    .dataframe tbody tr th {\n",
       "        vertical-align: top;\n",
       "    }\n",
       "\n",
       "    .dataframe thead th {\n",
       "        text-align: right;\n",
       "    }\n",
       "</style>\n",
       "<table border=\"1\" class=\"dataframe\">\n",
       "  <thead>\n",
       "    <tr style=\"text-align: right;\">\n",
       "      <th></th>\n",
       "      <th>Store</th>\n",
       "      <th>Date</th>\n",
       "      <th>Temperature</th>\n",
       "      <th>Fuel_Price</th>\n",
       "      <th>MarkDown1</th>\n",
       "      <th>MarkDown2</th>\n",
       "      <th>MarkDown3</th>\n",
       "      <th>MarkDown4</th>\n",
       "      <th>MarkDown5</th>\n",
       "      <th>CPI</th>\n",
       "      <th>Unemployment</th>\n",
       "      <th>IsHoliday</th>\n",
       "      <th>Type</th>\n",
       "      <th>Size</th>\n",
       "      <th>Dept</th>\n",
       "      <th>Weekly_Sales</th>\n",
       "    </tr>\n",
       "  </thead>\n",
       "  <tbody>\n",
       "    <tr>\n",
       "      <th>0</th>\n",
       "      <td>1</td>\n",
       "      <td>2010-02-05</td>\n",
       "      <td>42.31</td>\n",
       "      <td>2.572</td>\n",
       "      <td>NaN</td>\n",
       "      <td>NaN</td>\n",
       "      <td>NaN</td>\n",
       "      <td>NaN</td>\n",
       "      <td>NaN</td>\n",
       "      <td>211.096358</td>\n",
       "      <td>8.106</td>\n",
       "      <td>False</td>\n",
       "      <td>A</td>\n",
       "      <td>151315</td>\n",
       "      <td>1</td>\n",
       "      <td>24924.50</td>\n",
       "    </tr>\n",
       "    <tr>\n",
       "      <th>1</th>\n",
       "      <td>1</td>\n",
       "      <td>2010-02-05</td>\n",
       "      <td>42.31</td>\n",
       "      <td>2.572</td>\n",
       "      <td>NaN</td>\n",
       "      <td>NaN</td>\n",
       "      <td>NaN</td>\n",
       "      <td>NaN</td>\n",
       "      <td>NaN</td>\n",
       "      <td>211.096358</td>\n",
       "      <td>8.106</td>\n",
       "      <td>False</td>\n",
       "      <td>A</td>\n",
       "      <td>151315</td>\n",
       "      <td>2</td>\n",
       "      <td>50605.27</td>\n",
       "    </tr>\n",
       "    <tr>\n",
       "      <th>2</th>\n",
       "      <td>1</td>\n",
       "      <td>2010-02-05</td>\n",
       "      <td>42.31</td>\n",
       "      <td>2.572</td>\n",
       "      <td>NaN</td>\n",
       "      <td>NaN</td>\n",
       "      <td>NaN</td>\n",
       "      <td>NaN</td>\n",
       "      <td>NaN</td>\n",
       "      <td>211.096358</td>\n",
       "      <td>8.106</td>\n",
       "      <td>False</td>\n",
       "      <td>A</td>\n",
       "      <td>151315</td>\n",
       "      <td>3</td>\n",
       "      <td>13740.12</td>\n",
       "    </tr>\n",
       "    <tr>\n",
       "      <th>3</th>\n",
       "      <td>1</td>\n",
       "      <td>2010-02-05</td>\n",
       "      <td>42.31</td>\n",
       "      <td>2.572</td>\n",
       "      <td>NaN</td>\n",
       "      <td>NaN</td>\n",
       "      <td>NaN</td>\n",
       "      <td>NaN</td>\n",
       "      <td>NaN</td>\n",
       "      <td>211.096358</td>\n",
       "      <td>8.106</td>\n",
       "      <td>False</td>\n",
       "      <td>A</td>\n",
       "      <td>151315</td>\n",
       "      <td>4</td>\n",
       "      <td>39954.04</td>\n",
       "    </tr>\n",
       "    <tr>\n",
       "      <th>4</th>\n",
       "      <td>1</td>\n",
       "      <td>2010-02-05</td>\n",
       "      <td>42.31</td>\n",
       "      <td>2.572</td>\n",
       "      <td>NaN</td>\n",
       "      <td>NaN</td>\n",
       "      <td>NaN</td>\n",
       "      <td>NaN</td>\n",
       "      <td>NaN</td>\n",
       "      <td>211.096358</td>\n",
       "      <td>8.106</td>\n",
       "      <td>False</td>\n",
       "      <td>A</td>\n",
       "      <td>151315</td>\n",
       "      <td>5</td>\n",
       "      <td>32229.38</td>\n",
       "    </tr>\n",
       "    <tr>\n",
       "      <th>...</th>\n",
       "      <td>...</td>\n",
       "      <td>...</td>\n",
       "      <td>...</td>\n",
       "      <td>...</td>\n",
       "      <td>...</td>\n",
       "      <td>...</td>\n",
       "      <td>...</td>\n",
       "      <td>...</td>\n",
       "      <td>...</td>\n",
       "      <td>...</td>\n",
       "      <td>...</td>\n",
       "      <td>...</td>\n",
       "      <td>...</td>\n",
       "      <td>...</td>\n",
       "      <td>...</td>\n",
       "      <td>...</td>\n",
       "    </tr>\n",
       "    <tr>\n",
       "      <th>421565</th>\n",
       "      <td>45</td>\n",
       "      <td>2012-10-26</td>\n",
       "      <td>58.85</td>\n",
       "      <td>3.882</td>\n",
       "      <td>4018.91</td>\n",
       "      <td>58.08</td>\n",
       "      <td>100.0</td>\n",
       "      <td>211.94</td>\n",
       "      <td>858.33</td>\n",
       "      <td>192.308899</td>\n",
       "      <td>8.667</td>\n",
       "      <td>False</td>\n",
       "      <td>B</td>\n",
       "      <td>118221</td>\n",
       "      <td>93</td>\n",
       "      <td>2487.80</td>\n",
       "    </tr>\n",
       "    <tr>\n",
       "      <th>421566</th>\n",
       "      <td>45</td>\n",
       "      <td>2012-10-26</td>\n",
       "      <td>58.85</td>\n",
       "      <td>3.882</td>\n",
       "      <td>4018.91</td>\n",
       "      <td>58.08</td>\n",
       "      <td>100.0</td>\n",
       "      <td>211.94</td>\n",
       "      <td>858.33</td>\n",
       "      <td>192.308899</td>\n",
       "      <td>8.667</td>\n",
       "      <td>False</td>\n",
       "      <td>B</td>\n",
       "      <td>118221</td>\n",
       "      <td>94</td>\n",
       "      <td>5203.31</td>\n",
       "    </tr>\n",
       "    <tr>\n",
       "      <th>421567</th>\n",
       "      <td>45</td>\n",
       "      <td>2012-10-26</td>\n",
       "      <td>58.85</td>\n",
       "      <td>3.882</td>\n",
       "      <td>4018.91</td>\n",
       "      <td>58.08</td>\n",
       "      <td>100.0</td>\n",
       "      <td>211.94</td>\n",
       "      <td>858.33</td>\n",
       "      <td>192.308899</td>\n",
       "      <td>8.667</td>\n",
       "      <td>False</td>\n",
       "      <td>B</td>\n",
       "      <td>118221</td>\n",
       "      <td>95</td>\n",
       "      <td>56017.47</td>\n",
       "    </tr>\n",
       "    <tr>\n",
       "      <th>421568</th>\n",
       "      <td>45</td>\n",
       "      <td>2012-10-26</td>\n",
       "      <td>58.85</td>\n",
       "      <td>3.882</td>\n",
       "      <td>4018.91</td>\n",
       "      <td>58.08</td>\n",
       "      <td>100.0</td>\n",
       "      <td>211.94</td>\n",
       "      <td>858.33</td>\n",
       "      <td>192.308899</td>\n",
       "      <td>8.667</td>\n",
       "      <td>False</td>\n",
       "      <td>B</td>\n",
       "      <td>118221</td>\n",
       "      <td>97</td>\n",
       "      <td>6817.48</td>\n",
       "    </tr>\n",
       "    <tr>\n",
       "      <th>421569</th>\n",
       "      <td>45</td>\n",
       "      <td>2012-10-26</td>\n",
       "      <td>58.85</td>\n",
       "      <td>3.882</td>\n",
       "      <td>4018.91</td>\n",
       "      <td>58.08</td>\n",
       "      <td>100.0</td>\n",
       "      <td>211.94</td>\n",
       "      <td>858.33</td>\n",
       "      <td>192.308899</td>\n",
       "      <td>8.667</td>\n",
       "      <td>False</td>\n",
       "      <td>B</td>\n",
       "      <td>118221</td>\n",
       "      <td>98</td>\n",
       "      <td>1076.80</td>\n",
       "    </tr>\n",
       "  </tbody>\n",
       "</table>\n",
       "<p>421570 rows × 16 columns</p>\n",
       "</div>"
      ],
      "text/plain": [
       "        Store        Date  Temperature  Fuel_Price  MarkDown1  MarkDown2  \\\n",
       "0           1  2010-02-05        42.31       2.572        NaN        NaN   \n",
       "1           1  2010-02-05        42.31       2.572        NaN        NaN   \n",
       "2           1  2010-02-05        42.31       2.572        NaN        NaN   \n",
       "3           1  2010-02-05        42.31       2.572        NaN        NaN   \n",
       "4           1  2010-02-05        42.31       2.572        NaN        NaN   \n",
       "...       ...         ...          ...         ...        ...        ...   \n",
       "421565     45  2012-10-26        58.85       3.882    4018.91      58.08   \n",
       "421566     45  2012-10-26        58.85       3.882    4018.91      58.08   \n",
       "421567     45  2012-10-26        58.85       3.882    4018.91      58.08   \n",
       "421568     45  2012-10-26        58.85       3.882    4018.91      58.08   \n",
       "421569     45  2012-10-26        58.85       3.882    4018.91      58.08   \n",
       "\n",
       "        MarkDown3  MarkDown4  MarkDown5         CPI  Unemployment  IsHoliday  \\\n",
       "0             NaN        NaN        NaN  211.096358         8.106      False   \n",
       "1             NaN        NaN        NaN  211.096358         8.106      False   \n",
       "2             NaN        NaN        NaN  211.096358         8.106      False   \n",
       "3             NaN        NaN        NaN  211.096358         8.106      False   \n",
       "4             NaN        NaN        NaN  211.096358         8.106      False   \n",
       "...           ...        ...        ...         ...           ...        ...   \n",
       "421565      100.0     211.94     858.33  192.308899         8.667      False   \n",
       "421566      100.0     211.94     858.33  192.308899         8.667      False   \n",
       "421567      100.0     211.94     858.33  192.308899         8.667      False   \n",
       "421568      100.0     211.94     858.33  192.308899         8.667      False   \n",
       "421569      100.0     211.94     858.33  192.308899         8.667      False   \n",
       "\n",
       "       Type    Size  Dept  Weekly_Sales  \n",
       "0         A  151315     1      24924.50  \n",
       "1         A  151315     2      50605.27  \n",
       "2         A  151315     3      13740.12  \n",
       "3         A  151315     4      39954.04  \n",
       "4         A  151315     5      32229.38  \n",
       "...     ...     ...   ...           ...  \n",
       "421565    B  118221    93       2487.80  \n",
       "421566    B  118221    94       5203.31  \n",
       "421567    B  118221    95      56017.47  \n",
       "421568    B  118221    97       6817.48  \n",
       "421569    B  118221    98       1076.80  \n",
       "\n",
       "[421570 rows x 16 columns]"
      ]
     },
     "execution_count": 6,
     "metadata": {},
     "output_type": "execute_result"
    }
   ],
   "source": [
    "data = pd.merge(features_data, stores_data, on=[\"Store\"], how=\"outer\")\n",
    "\n",
    "data = pd.merge(data, train_data, on=[\"Store\", \"Date\", \"IsHoliday\"], how=\"inner\")\n",
    "\n",
    "data"
   ]
  },
  {
   "cell_type": "code",
   "execution_count": 7,
   "metadata": {},
   "outputs": [],
   "source": [
    "# Converting date column to datetime values and setting it as the index, then sorting it.\n",
    "data['Date'] = pd.to_datetime(data['Date'])\n",
    "\n",
    "data.set_index('Date', inplace=True)\n",
    "data.sort_index(inplace=True)"
   ]
  },
  {
   "cell_type": "code",
   "execution_count": 8,
   "metadata": {},
   "outputs": [],
   "source": [
    "# An approximate 70/30 Time Series Split\n",
    "\n",
    "training_data = data.loc[:'2011', :].copy()\n",
    "\n",
    "testing_data = data.loc['2012':, :].copy()"
   ]
  },
  {
   "cell_type": "code",
   "execution_count": 9,
   "metadata": {},
   "outputs": [],
   "source": [
    "# We can probably safely fill all missing values with zero.\n",
    "# For the markdowns this means that there was no markdown.\n",
    "\n",
    "training_data.fillna(0, inplace=True)\n",
    "testing_data.fillna(0, inplace=True)"
   ]
  },
  {
   "cell_type": "code",
   "execution_count": 10,
   "metadata": {},
   "outputs": [],
   "source": [
    "# We will only keep rows where we have nonnegative weekly sales, as this is a data error\n",
    "\n",
    "training_data = training_data[training_data['Weekly_Sales']>=0]\n",
    "\n",
    "testing_data = testing_data[testing_data['Weekly_Sales']>=0]"
   ]
  },
  {
   "cell_type": "code",
   "execution_count": 11,
   "metadata": {},
   "outputs": [],
   "source": [
    "training_data['IsHoliday'] = np.where(training_data['IsHoliday'], 1, 0)\n",
    "testing_data['IsHoliday'] = np.where(testing_data['IsHoliday'], 1, 0)"
   ]
  },
  {
   "cell_type": "code",
   "execution_count": 12,
   "metadata": {},
   "outputs": [],
   "source": [
    "# Make sure we can later recognize what a dummy once belonged to\n",
    "\n",
    "training_testing_data = [training_data, testing_data]\n",
    "\n",
    "for df in training_testing_data:\n",
    "  df['Type'] = 'Type_' + df['Type'].map(str)\n",
    "  df['Store'] = 'Store_' + df['Store'].map(str)\n",
    "  df['Dept'] = 'Dept_' + df['Dept'].map(str)\n",
    "  df['IsHoliday'] = 'IsHoliday_' + df['IsHoliday'].map(str)\n",
    "\n",
    "  df['Month'] = 'Month_' + df.index.month.map(str)\n",
    "\n",
    "  df['Black_Friday'] = np.where((df.index==datetime(2010, 11, 26).date()) | (df.index==datetime(2011, 11, 25).date()), 'yes', 'no')\n",
    "  df['Pre_Christmas'] = np.where((df.index==datetime(2010, 12, 23).date()) | (df.index==datetime(2010, 12, 24).date()) | (df.index==datetime(2011, 12, 23).date()) | (df.index==datetime(2011, 12, 24).date()), 'yes', 'no')\n",
    "  df['Black_Friday'] = 'Black_Friday_' + df['Black_Friday'].map(str)\n",
    "  df['Pre_Christmas'] = 'Pre_Christmas_' + df['Pre_Christmas'].map(str)"
   ]
  },
  {
   "cell_type": "code",
   "execution_count": 13,
   "metadata": {},
   "outputs": [],
   "source": [
    "# Create dummies for store features and for holiday indicator\n",
    "\n",
    "for df, i in zip(training_testing_data, range(2)):\n",
    "  type_dummies = pd.get_dummies(df['Type'], drop_first=True).astype(int)\n",
    "  store_dummies = pd.get_dummies(df['Store'], drop_first=True).astype(int)\n",
    "  dept_dummies = pd.get_dummies(df['Dept'], drop_first=True).astype(int)\n",
    "  holiday_dummies = pd.get_dummies(df['IsHoliday'], drop_first=True).astype(int)\n",
    "\n",
    "  month_dummies = pd.get_dummies(df['Month'], drop_first=True).astype(int)\n",
    "\n",
    "  Black_Friday_dummies = pd.get_dummies(df['Black_Friday'], drop_first=True).astype(int)\n",
    "  Pre_christmas_dummies = pd.get_dummies(df['Pre_Christmas'], drop_first=True).astype(int)\n",
    "\n",
    "  if i == 1:\n",
    "    # Nov, Dec are not in the testing sample, so we must add the columns manually\n",
    "    df['Month_11'] = 0\n",
    "    df['Month_12'] = 0\n",
    "\n",
    "  training_testing_data[i] = pd.concat([df,\n",
    "                                        type_dummies, store_dummies, dept_dummies, holiday_dummies,\n",
    "                                        month_dummies,\n",
    "                                        Black_Friday_dummies, Pre_christmas_dummies],\n",
    "                                        axis=1)"
   ]
  },
  {
   "cell_type": "code",
   "execution_count": 14,
   "metadata": {},
   "outputs": [],
   "source": [
    "training_data = training_testing_data[0]\n",
    "\n",
    "testing_data = training_testing_data[1]"
   ]
  },
  {
   "cell_type": "code",
   "execution_count": 15,
   "metadata": {},
   "outputs": [],
   "source": [
    "# Normalize the numerical variables using means and stds from the TRAINING DATA\n",
    "for df in training_testing_data:\n",
    "  df[['Unemployment', 'Temperature', 'Fuel_Price', 'CPI', 'MarkDown1', 'MarkDown2', 'MarkDown3', 'MarkDown4', 'MarkDown5']] = (df[['Unemployment', 'Temperature', 'Fuel_Price', 'CPI', 'MarkDown1', 'MarkDown2', 'MarkDown3', 'MarkDown4', 'MarkDown5']] - training_testing_data[0][['Unemployment', 'Temperature', 'Fuel_Price', 'CPI', 'MarkDown1', 'MarkDown2', 'MarkDown3', 'MarkDown4', 'MarkDown5']].mean())/(training_testing_data[0][['Unemployment', 'Temperature', 'Fuel_Price', 'CPI', 'MarkDown1', 'MarkDown2', 'MarkDown3', 'MarkDown4', 'MarkDown5']].std())"
   ]
  },
  {
   "cell_type": "code",
   "execution_count": 16,
   "metadata": {},
   "outputs": [],
   "source": [
    "# Let's separate our data into X and Y\n",
    "\n",
    "X_train = training_data[training_data.columns.drop('Weekly_Sales')].select_dtypes(include=np.number)\n",
    "Y_train = training_data[['Weekly_Sales']]\n",
    "\n",
    "X_test = testing_data[testing_data.columns.drop('Weekly_Sales')].select_dtypes(include=np.number)\n",
    "Y_test = testing_data[['Weekly_Sales']]"
   ]
  },
  {
   "cell_type": "code",
   "execution_count": 17,
   "metadata": {},
   "outputs": [
    {
     "data": {
      "text/plain": [
       "((293259, 148), (127026, 148), (293259, 1), (127026, 1))"
      ]
     },
     "execution_count": 17,
     "metadata": {},
     "output_type": "execute_result"
    }
   ],
   "source": [
    "X_train.shape, X_test.shape, Y_train.shape, Y_test.shape"
   ]
  },
  {
   "cell_type": "code",
   "execution_count": 19,
   "metadata": {},
   "outputs": [],
   "source": [
    "X_test = X_test[X_train.columns]\n",
    "scaler = StandardScaler()"
   ]
  },
  {
   "cell_type": "code",
   "execution_count": 20,
   "metadata": {},
   "outputs": [],
   "source": [
    "# Fit the scaler to the training data and transform the training data\n",
    "x_train_norm = scaler.fit_transform(X_train)\n",
    "\n",
    "# Transform the test data with the same scaler\n",
    "x_test_norm = scaler.transform(X_test)"
   ]
  },
  {
   "cell_type": "code",
   "execution_count": 21,
   "metadata": {},
   "outputs": [],
   "source": [
    "y_scaler = StandardScaler()"
   ]
  },
  {
   "cell_type": "code",
   "execution_count": 22,
   "metadata": {},
   "outputs": [],
   "source": [
    "# Fit the scaler to the training data and transform the training data\n",
    "y_train_norm = y_scaler.fit_transform(Y_train)\n",
    "\n",
    "# Transform the test data with the same scaler\n",
    "y_test_norm = y_scaler.transform(Y_test)"
   ]
  },
  {
   "cell_type": "code",
   "execution_count": 29,
   "metadata": {},
   "outputs": [
    {
     "data": {
      "text/plain": [
       "(293259, 148)"
      ]
     },
     "execution_count": 29,
     "metadata": {},
     "output_type": "execute_result"
    }
   ],
   "source": [
    "x_train_norm.shape"
   ]
  },
  {
   "cell_type": "markdown",
   "metadata": {},
   "source": [
    "## Question 1: Tweaking Parameters in PCA"
   ]
  },
  {
   "cell_type": "code",
   "execution_count": 23,
   "metadata": {},
   "outputs": [],
   "source": [
    "# Consider the following list of number of components - 3, 9, 15, 50\n",
    "number_of_components = [3, 9, 15, 50]"
   ]
  },
  {
   "cell_type": "markdown",
   "metadata": {},
   "source": [
    "Complete the following code for the extraction of the principal components.  \n",
    "Specifically, write code, or complete existing code in the following lines with three hashtags (###),  \n",
    "once you write or fill-in the code, be sure to UN-COMMENT your code,  \n",
    "everything else you can leave as is, and then run the cell."
   ]
  },
  {
   "cell_type": "code",
   "execution_count": 31,
   "metadata": {},
   "outputs": [
    {
     "name": "stdout",
     "output_type": "stream",
     "text": [
      "Now starting for: 3 of components\n",
      "Epoch 1/5\n",
      "\u001b[1m9165/9165\u001b[0m \u001b[32m━━━━━━━━━━━━━━━━━━━━\u001b[0m\u001b[37m\u001b[0m \u001b[1m8s\u001b[0m 691us/step - loss: 0.9549\n",
      "Epoch 2/5\n",
      "\u001b[1m9165/9165\u001b[0m \u001b[32m━━━━━━━━━━━━━━━━━━━━\u001b[0m\u001b[37m\u001b[0m \u001b[1m7s\u001b[0m 712us/step - loss: 0.9439\n",
      "Epoch 3/5\n",
      "\u001b[1m9165/9165\u001b[0m \u001b[32m━━━━━━━━━━━━━━━━━━━━\u001b[0m\u001b[37m\u001b[0m \u001b[1m6s\u001b[0m 665us/step - loss: 0.9439\n",
      "Epoch 4/5\n",
      "\u001b[1m9165/9165\u001b[0m \u001b[32m━━━━━━━━━━━━━━━━━━━━\u001b[0m\u001b[37m\u001b[0m \u001b[1m7s\u001b[0m 719us/step - loss: 0.9439\n",
      "Epoch 5/5\n",
      "\u001b[1m9165/9165\u001b[0m \u001b[32m━━━━━━━━━━━━━━━━━━━━\u001b[0m\u001b[37m\u001b[0m \u001b[1m8s\u001b[0m 885us/step - loss: 0.9439\n",
      "Now starting for: 9 of components\n",
      "Epoch 1/5\n",
      "\u001b[1m9165/9165\u001b[0m \u001b[32m━━━━━━━━━━━━━━━━━━━━\u001b[0m\u001b[37m\u001b[0m \u001b[1m8s\u001b[0m 835us/step - loss: 0.9004\n",
      "Epoch 2/5\n",
      "\u001b[1m9165/9165\u001b[0m \u001b[32m━━━━━━━━━━━━━━━━━━━━\u001b[0m\u001b[37m\u001b[0m \u001b[1m8s\u001b[0m 892us/step - loss: 0.8783\n",
      "Epoch 3/5\n",
      "\u001b[1m9165/9165\u001b[0m \u001b[32m━━━━━━━━━━━━━━━━━━━━\u001b[0m\u001b[37m\u001b[0m \u001b[1m10s\u001b[0m 1ms/step - loss: 0.8783\n",
      "Epoch 4/5\n",
      "\u001b[1m9165/9165\u001b[0m \u001b[32m━━━━━━━━━━━━━━━━━━━━\u001b[0m\u001b[37m\u001b[0m \u001b[1m10s\u001b[0m 1ms/step - loss: 0.8782\n",
      "Epoch 5/5\n",
      "\u001b[1m9165/9165\u001b[0m \u001b[32m━━━━━━━━━━━━━━━━━━━━\u001b[0m\u001b[37m\u001b[0m \u001b[1m10s\u001b[0m 1ms/step - loss: 0.8781\n",
      "Now starting for: 15 of components\n",
      "Epoch 1/5\n",
      "\u001b[1m9165/9165\u001b[0m \u001b[32m━━━━━━━━━━━━━━━━━━━━\u001b[0m\u001b[37m\u001b[0m \u001b[1m10s\u001b[0m 990us/step - loss: 0.8634\n",
      "Epoch 2/5\n",
      "\u001b[1m9165/9165\u001b[0m \u001b[32m━━━━━━━━━━━━━━━━━━━━\u001b[0m\u001b[37m\u001b[0m \u001b[1m9s\u001b[0m 977us/step - loss: 0.8340\n",
      "Epoch 3/5\n",
      "\u001b[1m9165/9165\u001b[0m \u001b[32m━━━━━━━━━━━━━━━━━━━━\u001b[0m\u001b[37m\u001b[0m \u001b[1m10s\u001b[0m 1ms/step - loss: 0.8338\n",
      "Epoch 4/5\n",
      "\u001b[1m9165/9165\u001b[0m \u001b[32m━━━━━━━━━━━━━━━━━━━━\u001b[0m\u001b[37m\u001b[0m \u001b[1m9s\u001b[0m 999us/step - loss: 0.8337 \n",
      "Epoch 5/5\n",
      "\u001b[1m9165/9165\u001b[0m \u001b[32m━━━━━━━━━━━━━━━━━━━━\u001b[0m\u001b[37m\u001b[0m \u001b[1m9s\u001b[0m 962us/step - loss: 0.8335\n",
      "Now starting for: 50 of components\n",
      "Epoch 1/5\n",
      "\u001b[1m9165/9165\u001b[0m \u001b[32m━━━━━━━━━━━━━━━━━━━━\u001b[0m\u001b[37m\u001b[0m \u001b[1m10s\u001b[0m 966us/step - loss: 0.6513\n",
      "Epoch 2/5\n",
      "\u001b[1m9165/9165\u001b[0m \u001b[32m━━━━━━━━━━━━━━━━━━━━\u001b[0m\u001b[37m\u001b[0m \u001b[1m9s\u001b[0m 956us/step - loss: 0.5924\n",
      "Epoch 3/5\n",
      "\u001b[1m9165/9165\u001b[0m \u001b[32m━━━━━━━━━━━━━━━━━━━━\u001b[0m\u001b[37m\u001b[0m \u001b[1m9s\u001b[0m 985us/step - loss: 0.5912\n",
      "Epoch 4/5\n",
      "\u001b[1m9165/9165\u001b[0m \u001b[32m━━━━━━━━━━━━━━━━━━━━\u001b[0m\u001b[37m\u001b[0m \u001b[1m9s\u001b[0m 946us/step - loss: 0.5904\n",
      "Epoch 5/5\n",
      "\u001b[1m9165/9165\u001b[0m \u001b[32m━━━━━━━━━━━━━━━━━━━━\u001b[0m\u001b[37m\u001b[0m \u001b[1m12s\u001b[0m 1ms/step - loss: 0.5899\n"
     ]
    }
   ],
   "source": [
    "encoders = {} # creates an empty dictionary to store the encoder layer (which we will use to generate the principal components)\n",
    "history_data = {} # creates an empty dictionary to store the history of the training steps\n",
    "\n",
    "# Loop through the different number of components\n",
    "for num in number_of_components:\n",
    "  print(\"Now starting for:\", num, \"of components\")\n",
    "  tf.keras.utils.set_random_seed(42) # to ensure consistency of the random initialization of the weights\n",
    "\n",
    "  # Autoencoder organized into two subcomponents: the encoder and the decoder.\n",
    "  # Each consists of a regular sequential model with one Dense layer.\n",
    "  encoder = tf.keras.Sequential([tf.keras.layers.Input(shape=(x_train_norm.shape[1],)), tf.keras.layers.Dense(num)])\n",
    "\n",
    "  # Autoencoder's number of outputs must equal number of inputs.\n",
    "  decoder = tf.keras.Sequential([tf.keras.layers.Dense(x_train_norm.shape[1])])\n",
    "\n",
    "  # The autoencoder is a sequential model containing the encoder followed by the decoder\n",
    "  # To perform PCA, we don't use any activation function (i.e. all neurons are linear), and the loss function is MSE\n",
    "  # This is because PCA is a linear transformation\n",
    "  autoencoder = tf.keras.Sequential([encoder, decoder])\n",
    "  autoencoder.compile(loss=\"mse\")\n",
    "\n",
    "  # Note that we only use the inner hidden layer to generate the derived features\n",
    "  # These are known as the \"codings\"\n",
    "\n",
    "  history = autoencoder.fit(x_train_norm, x_train_norm, epochs=5, verbose=True)\n",
    "  encoders[num] = encoder\n",
    "  history_data[num] = history.history"
   ]
  },
  {
   "cell_type": "code",
   "execution_count": 32,
   "metadata": {},
   "outputs": [
    {
     "data": {
      "image/png": "[encoded data removed]",
      "text/plain": [
       "<Figure size 1000x600 with 1 Axes>"
      ]
     },
     "metadata": {},
     "output_type": "display_data"
    }
   ],
   "source": [
    "# Run this code to visualize the error, how can you explain the following plot?\n",
    "# Write your explanation in a cell below this code.\n",
    "\n",
    "epochs = [i for i in range(1,6)]\n",
    "\n",
    "# Plotting\n",
    "plt.figure(figsize=(10, 6))\n",
    "plt.plot(epochs, history_data[3]['loss'], label='3 components')\n",
    "plt.plot(epochs, history_data[9]['loss'], label='9 components')\n",
    "plt.plot(epochs, history_data[15]['loss'], label='15 components')\n",
    "plt.plot(epochs, history_data[50]['loss'], label='50 components')\n",
    "plt.title('MSE vs. Epochs')\n",
    "plt.xlabel('Epochs')\n",
    "plt.ylabel('Mean Squared Error')\n",
    "plt.legend()\n",
    "plt.show()"
   ]
  },
  {
   "cell_type": "markdown",
   "metadata": {},
   "source": [
    "**Explanation**: Considering there are 148 initial features, choosing only 3 principal components to make predictions probably isn't sufficient. It appears as though the more components we add, the more accurately we are able to predict weekly sales. Adding more components captures a larger portion of the variance in the data, allowing the model to utilize more relevant information effectively, which can help make better predictions (in this case, without introducing too much noise)."
   ]
  },
  {
   "cell_type": "code",
   "execution_count": 39,
   "metadata": {},
   "outputs": [
    {
     "name": "stdout",
     "output_type": "stream",
     "text": [
      "\u001b[1m9165/9165\u001b[0m \u001b[32m━━━━━━━━━━━━━━━━━━━━\u001b[0m\u001b[37m\u001b[0m \u001b[1m8s\u001b[0m 919us/step\n",
      "\u001b[1m3970/3970\u001b[0m \u001b[32m━━━━━━━━━━━━━━━━━━━━\u001b[0m\u001b[37m\u001b[0m \u001b[1m4s\u001b[0m 992us/step\n"
     ]
    }
   ],
   "source": [
    "desired_num_of_components = 50\n",
    "\n",
    "X_train_PC_codings = encoders[desired_num_of_components].predict(x_train_norm)\n",
    "\n",
    "X_test_PC_codings = encoders[desired_num_of_components].predict(x_test_norm)"
   ]
  },
  {
   "cell_type": "markdown",
   "metadata": {},
   "source": [
    "## Question 2: Tweaking the Parameters and Model for a Single Layer Perceptron"
   ]
  },
  {
   "cell_type": "markdown",
   "metadata": {},
   "source": [
    "Using the best principal components (codings) from above as the features for the following linear regression model, testing three different optimizers."
   ]
  },
  {
   "cell_type": "code",
   "execution_count": 40,
   "metadata": {},
   "outputs": [],
   "source": [
    "# This describes what the model consists of\n",
    "\n",
    "lin_reg = tf.keras.Sequential([\n",
    "    tf.keras.layers.Input(shape=(X_train_PC_codings.shape[1],)),\n",
    "    tf.keras.layers.Normalization(axis=-1), # When -1 the last axis of the input is assumed to be a feature dimension and is normalized per index.\n",
    "    tf.keras.layers.Dense(1, activation='linear')\n",
    "  ])"
   ]
  },
  {
   "cell_type": "markdown",
   "metadata": {},
   "source": [
    "**Stochastic Gradient Descent**:"
   ]
  },
  {
   "cell_type": "markdown",
   "metadata": {},
   "source": [
    "A little about SGD:  \n",
    "- Addresses computational inefficiency of traditional gradient descent methods.  \n",
    "- Only a single random training example (small batch) selected to calculate the gradient $\\rightarrow$ introduces randomness (hence the stochastic).  \n",
    "- Uses a constant learning rate; can be bad.  \n",
    "- Usually noisier than typical gradient descent, but reaches minimum in similar time and much more computationally efficient.    "
   ]
  },
  {
   "cell_type": "code",
   "execution_count": 41,
   "metadata": {},
   "outputs": [],
   "source": [
    "lin_reg.compile(loss=\"mse\",optimizer=\"SGD\", metrics=[tf.keras.metrics.Accuracy()])"
   ]
  },
  {
   "cell_type": "code",
   "execution_count": 42,
   "metadata": {},
   "outputs": [
    {
     "data": {
      "text/plain": [
       "(293259, 50)"
      ]
     },
     "execution_count": 42,
     "metadata": {},
     "output_type": "execute_result"
    }
   ],
   "source": [
    "X_train_PC_codings.shape"
   ]
  },
  {
   "cell_type": "code",
   "execution_count": 43,
   "metadata": {},
   "outputs": [
    {
     "data": {
      "text/html": [
       "<pre style=\"white-space:pre;overflow-x:auto;line-height:normal;font-family:Menlo,'DejaVu Sans Mono',consolas,'Courier New',monospace\"><span style=\"font-weight: bold\">Model: \"sequential_18\"</span>\n",
       "</pre>\n"
      ],
      "text/plain": [
       "\u001b[1mModel: \"sequential_18\"\u001b[0m\n"
      ]
     },
     "metadata": {},
     "output_type": "display_data"
    },
    {
     "data": {
      "text/html": [
       "<pre style=\"white-space:pre;overflow-x:auto;line-height:normal;font-family:Menlo,'DejaVu Sans Mono',consolas,'Courier New',monospace\">┏━━━━━━━━━━━━━━━━━━━━━━━━━━━━━━━━━┳━━━━━━━━━━━━━━━━━━━━━━━━┳━━━━━━━━━━━━━━━┓\n",
       "┃<span style=\"font-weight: bold\"> Layer (type)                    </span>┃<span style=\"font-weight: bold\"> Output Shape           </span>┃<span style=\"font-weight: bold\">       Param # </span>┃\n",
       "┡━━━━━━━━━━━━━━━━━━━━━━━━━━━━━━━━━╇━━━━━━━━━━━━━━━━━━━━━━━━╇━━━━━━━━━━━━━━━┩\n",
       "│ normalization_1 (<span style=\"color: #0087ff; text-decoration-color: #0087ff\">Normalization</span>) │ (<span style=\"color: #00d7ff; text-decoration-color: #00d7ff\">None</span>, <span style=\"color: #00af00; text-decoration-color: #00af00\">50</span>)             │           <span style=\"color: #00af00; text-decoration-color: #00af00\">101</span> │\n",
       "├─────────────────────────────────┼────────────────────────┼───────────────┤\n",
       "│ dense_13 (<span style=\"color: #0087ff; text-decoration-color: #0087ff\">Dense</span>)                │ (<span style=\"color: #00d7ff; text-decoration-color: #00d7ff\">None</span>, <span style=\"color: #00af00; text-decoration-color: #00af00\">1</span>)              │            <span style=\"color: #00af00; text-decoration-color: #00af00\">51</span> │\n",
       "└─────────────────────────────────┴────────────────────────┴───────────────┘\n",
       "</pre>\n"
      ],
      "text/plain": [
       "┏━━━━━━━━━━━━━━━━━━━━━━━━━━━━━━━━━┳━━━━━━━━━━━━━━━━━━━━━━━━┳━━━━━━━━━━━━━━━┓\n",
       "┃\u001b[1m \u001b[0m\u001b[1mLayer (type)                   \u001b[0m\u001b[1m \u001b[0m┃\u001b[1m \u001b[0m\u001b[1mOutput Shape          \u001b[0m\u001b[1m \u001b[0m┃\u001b[1m \u001b[0m\u001b[1m      Param #\u001b[0m\u001b[1m \u001b[0m┃\n",
       "┡━━━━━━━━━━━━━━━━━━━━━━━━━━━━━━━━━╇━━━━━━━━━━━━━━━━━━━━━━━━╇━━━━━━━━━━━━━━━┩\n",
       "│ normalization_1 (\u001b[38;5;33mNormalization\u001b[0m) │ (\u001b[38;5;45mNone\u001b[0m, \u001b[38;5;34m50\u001b[0m)             │           \u001b[38;5;34m101\u001b[0m │\n",
       "├─────────────────────────────────┼────────────────────────┼───────────────┤\n",
       "│ dense_13 (\u001b[38;5;33mDense\u001b[0m)                │ (\u001b[38;5;45mNone\u001b[0m, \u001b[38;5;34m1\u001b[0m)              │            \u001b[38;5;34m51\u001b[0m │\n",
       "└─────────────────────────────────┴────────────────────────┴───────────────┘\n"
      ]
     },
     "metadata": {},
     "output_type": "display_data"
    },
    {
     "data": {
      "text/html": [
       "<pre style=\"white-space:pre;overflow-x:auto;line-height:normal;font-family:Menlo,'DejaVu Sans Mono',consolas,'Courier New',monospace\"><span style=\"font-weight: bold\"> Total params: </span><span style=\"color: #00af00; text-decoration-color: #00af00\">152</span> (612.00 B)\n",
       "</pre>\n"
      ],
      "text/plain": [
       "\u001b[1m Total params: \u001b[0m\u001b[38;5;34m152\u001b[0m (612.00 B)\n"
      ]
     },
     "metadata": {},
     "output_type": "display_data"
    },
    {
     "data": {
      "text/html": [
       "<pre style=\"white-space:pre;overflow-x:auto;line-height:normal;font-family:Menlo,'DejaVu Sans Mono',consolas,'Courier New',monospace\"><span style=\"font-weight: bold\"> Trainable params: </span><span style=\"color: #00af00; text-decoration-color: #00af00\">51</span> (204.00 B)\n",
       "</pre>\n"
      ],
      "text/plain": [
       "\u001b[1m Trainable params: \u001b[0m\u001b[38;5;34m51\u001b[0m (204.00 B)\n"
      ]
     },
     "metadata": {},
     "output_type": "display_data"
    },
    {
     "data": {
      "text/html": [
       "<pre style=\"white-space:pre;overflow-x:auto;line-height:normal;font-family:Menlo,'DejaVu Sans Mono',consolas,'Courier New',monospace\"><span style=\"font-weight: bold\"> Non-trainable params: </span><span style=\"color: #00af00; text-decoration-color: #00af00\">101</span> (408.00 B)\n",
       "</pre>\n"
      ],
      "text/plain": [
       "\u001b[1m Non-trainable params: \u001b[0m\u001b[38;5;34m101\u001b[0m (408.00 B)\n"
      ]
     },
     "metadata": {},
     "output_type": "display_data"
    }
   ],
   "source": [
    "lin_reg.summary()"
   ]
  },
  {
   "cell_type": "code",
   "execution_count": 44,
   "metadata": {},
   "outputs": [
    {
     "name": "stdout",
     "output_type": "stream",
     "text": [
      "Epoch 1/5\n",
      "\u001b[1m9165/9165\u001b[0m \u001b[32m━━━━━━━━━━━━━━━━━━━━\u001b[0m\u001b[37m\u001b[0m \u001b[1m10s\u001b[0m 1ms/step - accuracy: 0.0000e+00 - loss: 1.0092\n",
      "Epoch 2/5\n",
      "\u001b[1m9165/9165\u001b[0m \u001b[32m━━━━━━━━━━━━━━━━━━━━\u001b[0m\u001b[37m\u001b[0m \u001b[1m23s\u001b[0m 3ms/step - accuracy: 0.0000e+00 - loss: 0.9685\n",
      "Epoch 3/5\n",
      "\u001b[1m9165/9165\u001b[0m \u001b[32m━━━━━━━━━━━━━━━━━━━━\u001b[0m\u001b[37m\u001b[0m \u001b[1m10s\u001b[0m 1ms/step - accuracy: 0.0000e+00 - loss: 0.9685\n",
      "Epoch 4/5\n",
      "\u001b[1m9165/9165\u001b[0m \u001b[32m━━━━━━━━━━━━━━━━━━━━\u001b[0m\u001b[37m\u001b[0m \u001b[1m15s\u001b[0m 2ms/step - accuracy: 0.0000e+00 - loss: 0.9683\n",
      "Epoch 5/5\n",
      "\u001b[1m9165/9165\u001b[0m \u001b[32m━━━━━━━━━━━━━━━━━━━━\u001b[0m\u001b[37m\u001b[0m \u001b[1m10s\u001b[0m 1ms/step - accuracy: 0.0000e+00 - loss: 0.9684\n",
      "CPU times: total: 28.5 s\n",
      "Wall time: 1min 8s\n"
     ]
    }
   ],
   "source": [
    "%%time\n",
    "# This is built-in training loop\n",
    "# It iterates over the training data in mini-batches (of some size, say 32 samples) for some number of epochs (an iteration over the entire training data)\n",
    "# For each batch, the model will compute the gradient of the loss with regard to the weights (which uses the Backpropagation algorithm)\n",
    "# It then moves the weights in the direction that will reduce the value of the loss for this batch of data\n",
    "\n",
    "\n",
    "sgd_history = lin_reg.fit(X_train_PC_codings, y_train_norm, epochs=5, verbose=True, batch_size = 32)"
   ]
  },
  {
   "cell_type": "code",
   "execution_count": 45,
   "metadata": {},
   "outputs": [
    {
     "name": "stdout",
     "output_type": "stream",
     "text": [
      "\u001b[1m9165/9165\u001b[0m \u001b[32m━━━━━━━━━━━━━━━━━━━━\u001b[0m\u001b[37m\u001b[0m \u001b[1m9s\u001b[0m 984us/step\n",
      "\u001b[1m9165/9165\u001b[0m \u001b[32m━━━━━━━━━━━━━━━━━━━━\u001b[0m\u001b[37m\u001b[0m \u001b[1m11s\u001b[0m 1ms/step - accuracy: 0.0000e+00 - loss: 1.0800\n"
     ]
    },
    {
     "data": {
      "text/plain": [
       "[1.1254403591156006, 0.0]"
      ]
     },
     "execution_count": 45,
     "metadata": {},
     "output_type": "execute_result"
    }
   ],
   "source": [
    "# Returns the loss value & metrics values for the model\n",
    "\n",
    "lin_reg.evaluate(lin_reg.predict(X_train_PC_codings), y_train_norm)"
   ]
  },
  {
   "cell_type": "markdown",
   "metadata": {},
   "source": [
    "**RMSProp**:"
   ]
  },
  {
   "cell_type": "markdown",
   "metadata": {},
   "source": [
    "A little about RMSProp:  \n",
    "- Utilizes **moving average** of the squared gradients to scale the learning rate for each parameter $\\rightarrow$ prevents oscillations in the optimization trajectory by maintaining a blaance between efficient convergence and stability during the training process.  \n",
    "\n",
    "Advantages:  \n",
    "- Fast convergence  \n",
    "- Stable learning  \n",
    "- Fewer hyperparameters  \n",
    "- Good performance on non-convex problems"
   ]
  },
  {
   "cell_type": "markdown",
   "metadata": {},
   "source": [
    "Compiling with RMSProp optimizer along with accuracy metrics:"
   ]
  },
  {
   "cell_type": "code",
   "execution_count": 46,
   "metadata": {},
   "outputs": [],
   "source": [
    "lin_reg.compile(loss=\"mse\",optimizer=\"RMSProp\", metrics = [tf.keras.metrics.Accuracy()])\n"
   ]
  },
  {
   "cell_type": "code",
   "execution_count": 47,
   "metadata": {},
   "outputs": [
    {
     "name": "stdout",
     "output_type": "stream",
     "text": [
      "Epoch 1/5\n",
      "\u001b[1m9165/9165\u001b[0m \u001b[32m━━━━━━━━━━━━━━━━━━━━\u001b[0m\u001b[37m\u001b[0m \u001b[1m11s\u001b[0m 1ms/step - accuracy: 0.0000e+00 - loss: 0.9264\n",
      "Epoch 2/5\n",
      "\u001b[1m9165/9165\u001b[0m \u001b[32m━━━━━━━━━━━━━━━━━━━━\u001b[0m\u001b[37m\u001b[0m \u001b[1m10s\u001b[0m 1ms/step - accuracy: 0.0000e+00 - loss: 0.9251\n",
      "Epoch 3/5\n",
      "\u001b[1m9165/9165\u001b[0m \u001b[32m━━━━━━━━━━━━━━━━━━━━\u001b[0m\u001b[37m\u001b[0m \u001b[1m10s\u001b[0m 1ms/step - accuracy: 0.0000e+00 - loss: 0.9251\n",
      "Epoch 4/5\n",
      "\u001b[1m9165/9165\u001b[0m \u001b[32m━━━━━━━━━━━━━━━━━━━━\u001b[0m\u001b[37m\u001b[0m \u001b[1m15s\u001b[0m 2ms/step - accuracy: 0.0000e+00 - loss: 0.9250\n",
      "Epoch 5/5\n",
      "\u001b[1m9165/9165\u001b[0m \u001b[32m━━━━━━━━━━━━━━━━━━━━\u001b[0m\u001b[37m\u001b[0m \u001b[1m12s\u001b[0m 1ms/step - accuracy: 0.0000e+00 - loss: 0.9251\n"
     ]
    }
   ],
   "source": [
    "rms_history = lin_reg.fit(X_train_PC_codings, y_train_norm, epochs=5, verbose=True, batch_size=32)"
   ]
  },
  {
   "cell_type": "code",
   "execution_count": 48,
   "metadata": {},
   "outputs": [
    {
     "name": "stdout",
     "output_type": "stream",
     "text": [
      "\u001b[1m9165/9165\u001b[0m \u001b[32m━━━━━━━━━━━━━━━━━━━━\u001b[0m\u001b[37m\u001b[0m \u001b[1m10s\u001b[0m 1ms/step\n",
      "\u001b[1m9165/9165\u001b[0m \u001b[32m━━━━━━━━━━━━━━━━━━━━\u001b[0m\u001b[37m\u001b[0m \u001b[1m13s\u001b[0m 1ms/step - accuracy: 0.0000e+00 - loss: 1.0404\n"
     ]
    },
    {
     "data": {
      "text/plain": [
       "[1.0863676071166992, 0.0]"
      ]
     },
     "execution_count": 48,
     "metadata": {},
     "output_type": "execute_result"
    }
   ],
   "source": [
    "lin_reg.evaluate(lin_reg.predict(X_train_PC_codings), y_train_norm)"
   ]
  },
  {
   "cell_type": "markdown",
   "metadata": {},
   "source": [
    "Looks like RMSProp has slightly less loss than SGD, but still performs pretty poorly. "
   ]
  },
  {
   "cell_type": "markdown",
   "metadata": {},
   "source": [
    "**Adam:**"
   ]
  },
  {
   "cell_type": "markdown",
   "metadata": {},
   "source": [
    "A little about Adam:  \n",
    "- Combo of gradient descent with momentum and RMSProp.  \n",
    "- Momentum used to accelerate the gradient descent algorithms by taking into consideration the exponentially weighted average of the gradients $\\rightarrow$ converge towards minima faster.  \n",
    "\n",
    "**Momentum:**  \n",
    "$w_{t+1} = w_t - \\alpha m_t$, where  \n",
    "\n",
    "$m_t = \\beta m_{t-1} + (1 - \\beta) [\\frac{\\delta L}{\\delta w_t}]$.  \n",
    "\n",
    "$m_t$: aggregate of gradients at time t [current] (initially, $m_t$ = 0)  \n",
    "$m_{t-1}$: aggregate of gradients at time t-1 [previous]  \n",
    "$w_t$: weights at time $t$  \n",
    "$w_{t+1}$: weights at time $t+1$  \n",
    "$\\alpha _t$: learning rate at time $t$  \n",
    "$\\delta L$: derivative of loss function  \n",
    "$\\delta w_t$: derivative of weight at time $t$  \n",
    "$\\beta$: moving average parameter (const, 0.9)  \n",
    "\n",
    "**RMSProp**:  \n",
    "$w_{t+1} = w_t - \\frac{\\alpha _t}{(v_t + \\epsilon)^{1/2}} \\cdot [\\frac{\\delta L}{\\delta w_t}]$, where  \n",
    "\n",
    "$v_t = \\beta v_{t-1} + (1 - \\beta) \\cdot [\\frac{\\delta L}{\\delta w_t}]^2$  \n",
    "\n",
    "w_t$: weights at time $t$  \n",
    "$w_{t+1}$: weights at time $t+1$  \n",
    "$\\alpha _t$: learning rate at time $t$  \n",
    "$\\delta L$: derivative of loss function  \n",
    "$\\delta w_t$: derivative of weight at time $t$  \n",
    "$v_t$: sum of square of past gradients. Initially, $v_t$ = 0.  \n",
    "$\\beta$: moving average parameter (const, 0.9)  \n",
    "$\\epsilon$: small positive constant $(10^{-8})$  \n",
    "\n",
    "**Adam:**  \n",
    "$m_t = \\beta _1 m_{t-1} + (1 - \\beta _1) [\\frac{\\delta L}{\\delta w_t}]$  \n",
    "$v_t = \\beta _2 v_{t-1} + (1 - \\beta _2) [\\frac{\\delta L}{\\delta w_t}]^2$  \n",
    "\n",
    "Parameters:  \n",
    "1. $\\epsilon$ = a small +ve constant to avoid 'division by 0' error when ($v_t \\rightarrow 0$).  \n",
    "2. $\\beta _1$ and $\\beta _2$ = decay rates of average of gradients in the above two methods. ($\\beta _1$ = 0.9 & $\\beta _2$ = 0.999).  \n",
    "3. $\\alpha$ - step size parameter/learning rate (0.001)."
   ]
  },
  {
   "cell_type": "code",
   "execution_count": 49,
   "metadata": {},
   "outputs": [],
   "source": [
    "lin_reg.compile(loss=\"mse\",optimizer=\"adam\", metrics = [tf.keras.metrics.Accuracy()])\n"
   ]
  },
  {
   "cell_type": "code",
   "execution_count": 50,
   "metadata": {},
   "outputs": [
    {
     "name": "stdout",
     "output_type": "stream",
     "text": [
      "Epoch 1/5\n",
      "\u001b[1m9165/9165\u001b[0m \u001b[32m━━━━━━━━━━━━━━━━━━━━\u001b[0m\u001b[37m\u001b[0m \u001b[1m11s\u001b[0m 1ms/step - accuracy: 0.0000e+00 - loss: 0.9253\n",
      "Epoch 2/5\n",
      "\u001b[1m9165/9165\u001b[0m \u001b[32m━━━━━━━━━━━━━━━━━━━━\u001b[0m\u001b[37m\u001b[0m \u001b[1m9s\u001b[0m 961us/step - accuracy: 0.0000e+00 - loss: 0.9254\n",
      "Epoch 3/5\n",
      "\u001b[1m9165/9165\u001b[0m \u001b[32m━━━━━━━━━━━━━━━━━━━━\u001b[0m\u001b[37m\u001b[0m \u001b[1m9s\u001b[0m 1ms/step - accuracy: 0.0000e+00 - loss: 0.9253 \n",
      "Epoch 4/5\n",
      "\u001b[1m9165/9165\u001b[0m \u001b[32m━━━━━━━━━━━━━━━━━━━━\u001b[0m\u001b[37m\u001b[0m \u001b[1m9s\u001b[0m 1ms/step - accuracy: 0.0000e+00 - loss: 0.9253\n",
      "Epoch 5/5\n",
      "\u001b[1m9165/9165\u001b[0m \u001b[32m━━━━━━━━━━━━━━━━━━━━\u001b[0m\u001b[37m\u001b[0m \u001b[1m9s\u001b[0m 1ms/step - accuracy: 0.0000e+00 - loss: 0.9252\n"
     ]
    }
   ],
   "source": [
    "adam_history = lin_reg.fit(X_train_PC_codings, y_train_norm, epochs=5, verbose=True, batch_size=32)"
   ]
  },
  {
   "cell_type": "code",
   "execution_count": 51,
   "metadata": {},
   "outputs": [
    {
     "name": "stdout",
     "output_type": "stream",
     "text": [
      "\u001b[1m9165/9165\u001b[0m \u001b[32m━━━━━━━━━━━━━━━━━━━━\u001b[0m\u001b[37m\u001b[0m \u001b[1m8s\u001b[0m 905us/step\n",
      "\u001b[1m9165/9165\u001b[0m \u001b[32m━━━━━━━━━━━━━━━━━━━━\u001b[0m\u001b[37m\u001b[0m \u001b[1m10s\u001b[0m 1ms/step - accuracy: 0.0000e+00 - loss: 1.0369\n"
     ]
    },
    {
     "data": {
      "text/plain": [
       "[1.0827391147613525, 0.0]"
      ]
     },
     "execution_count": 51,
     "metadata": {},
     "output_type": "execute_result"
    }
   ],
   "source": [
    "lin_reg.evaluate(lin_reg.predict(X_train_PC_codings), y_train_norm)"
   ]
  },
  {
   "cell_type": "markdown",
   "metadata": {},
   "source": [
    "Slightly less loss than RMSProp!"
   ]
  },
  {
   "cell_type": "markdown",
   "metadata": {},
   "source": [
    "**Plotting the histories**:"
   ]
  },
  {
   "cell_type": "code",
   "execution_count": 56,
   "metadata": {},
   "outputs": [
    {
     "data": {
      "image/png": "[encoded data removed]",
      "text/plain": [
       "<Figure size 1000x600 with 1 Axes>"
      ]
     },
     "metadata": {},
     "output_type": "display_data"
    }
   ],
   "source": [
    "epochs = [i for i in range(1,6)]\n",
    "\n",
    "# Plotting\n",
    "plt.figure(figsize=(10, 6))\n",
    "plt.plot(epochs, adam_history.history['loss'], label='Adam')\n",
    "plt.plot(epochs, rms_history.history['loss'], label='RMSProp')\n",
    "plt.plot(epochs, sgd_history.history['loss'], label='SGD')\n",
    "plt.title('Loss (MSE) vs. Epochs')\n",
    "plt.xlabel('Epochs')\n",
    "plt.ylabel('Mean Squared Error')\n",
    "plt.legend()\n",
    "plt.show()"
   ]
  },
  {
   "cell_type": "markdown",
   "metadata": {},
   "source": [
    "**Zooming in on the lower 2:**"
   ]
  },
  {
   "cell_type": "code",
   "execution_count": 57,
   "metadata": {},
   "outputs": [
    {
     "data": {
      "image/png": "[encoded data removed]",
      "text/plain": [
       "<Figure size 1000x600 with 1 Axes>"
      ]
     },
     "metadata": {},
     "output_type": "display_data"
    }
   ],
   "source": [
    "plt.figure(figsize=(10, 6))\n",
    "plt.plot(epochs, adam_history.history['loss'], label='Adam')\n",
    "plt.plot(epochs, rms_history.history['loss'], label='RMSProp')\n",
    "plt.title('Loss (MSE) vs. Epochs for Adam and RMSProp')\n",
    "plt.xlabel('Epochs')\n",
    "plt.ylabel('Mean Squared Error')\n",
    "plt.legend()\n",
    "plt.show()"
   ]
  },
  {
   "cell_type": "markdown",
   "metadata": {},
   "source": [
    "Looks like RMSProp performed the best on this problem!"
   ]
  },
  {
   "cell_type": "markdown",
   "metadata": {},
   "source": [
    "## Question 3:  Implementing Mini-Batch SGD in a Training Loop for a Single-Layer Perceptron"
   ]
  },
  {
   "cell_type": "code",
   "execution_count": 58,
   "metadata": {},
   "outputs": [],
   "source": [
    "# Lets first create some synthetic data for a simple regression problem\n",
    "\n",
    "# Creating a synthetic dataset\n",
    "np.random.seed(0)\n",
    "data_size = 1000\n",
    "x_data = np.random.rand(data_size, 1).astype(np.float32)\n",
    "\n",
    "# y = 2x + 1 + noise\n",
    "y_data = 2 * x_data + 1 + 0.2 * np.random.randn(data_size, 1).astype(np.float32)"
   ]
  },
  {
   "cell_type": "code",
   "execution_count": 88,
   "metadata": {},
   "outputs": [
    {
     "name": "stdout",
     "output_type": "stream",
     "text": [
      "63\n"
     ]
    }
   ],
   "source": [
    "import math\n",
    "# Training\n",
    "learning_rate = 0.01\n",
    "epochs = 100\n",
    "batch_size = 16\n",
    "\n",
    "# The number of steps/number of batches is equal to the number of samples divided by the batch size. I take the ceil() to ensure that we don't miss the data at the end.\n",
    "num_steps = math.ceil(x_data.shape[0] / batch_size) \n",
    "print(num_steps)\n"
   ]
  },
  {
   "cell_type": "code",
   "execution_count": 87,
   "metadata": {},
   "outputs": [
    {
     "name": "stdout",
     "output_type": "stream",
     "text": [
      "Trained parameters: w = 1.9796149730682373, b = 1.0149080753326416\n"
     ]
    }
   ],
   "source": [
    "loss_history = []\n",
    "# Initializing w and b with TF Variable objects:\n",
    "w = tf.Variable(3.0, tf.float32)\n",
    "b = tf.Variable(-1.0, tf.float32)\n",
    "\n",
    "w_history = []\n",
    "b_history = []\n",
    "\n",
    "w_gradient_history = []\n",
    "b_gradient_history = []\n",
    "\n",
    "w_history.append(w.numpy())\n",
    "b_history.append(b.numpy())\n",
    "\n",
    "# Training loop\n",
    "for epoch in range(1, epochs):\n",
    "    print(epoch,end='\\r')\n",
    "    for i in range(0, num_steps): # Want to compute on each batch of data until the end, with no overlap (so use num_steps)\n",
    "\n",
    "        x_slice = x_data[batch_size * i: batch_size * (i + 1)]\n",
    "        y_slice = y_data[batch_size * i: batch_size * (i + 1)]\n",
    "\n",
    "        ###################################### - complete the code to fill gradient tape that is used to compute gradients\n",
    "        with tf.GradientTape() as tape:\n",
    "          # y_pred is just the current w value * data batch + bias\n",
    "          y_pred = w*x_slice + b\n",
    "          # we use MSE loss:\n",
    "          loss = tf.reduce_mean(tf.square(y_slice - y_pred))\n",
    "          gradients = tape.gradient(loss, [w, b])\n",
    "\n",
    "        w_gradient_history.append(gradients[0].numpy())\n",
    "        b_gradient_history.append(gradients[1].numpy())\n",
    "\n",
    "        ##################################### - complete the code to update the weights and bias\n",
    "        # w_new = w_old - LR * gradient_w:\n",
    "        w.assign_sub(learning_rate * gradients[0])\n",
    "\n",
    "        # b_new = b_old - LR * gradient_b:\n",
    "        b.assign_sub(learning_rate * gradients[1])\n",
    "        #####################################\n",
    "\n",
    "        w_history.append(w.numpy())\n",
    "        b_history.append(b.numpy())\n",
    "\n",
    "# Print trained parameters\n",
    "print(f\"Trained parameters: w = {w.numpy()}, b = {b.numpy()}\")"
   ]
  },
  {
   "cell_type": "code",
   "execution_count": 89,
   "metadata": {},
   "outputs": [
    {
     "data": {
      "text/plain": [
       "Text(0.5, 1.0, 'Gradient of w over history')"
      ]
     },
     "execution_count": 89,
     "metadata": {},
     "output_type": "execute_result"
    },
    {
     "data": {
      "image/png": "[encoded data removed]",
      "text/plain": [
       "<Figure size 640x480 with 1 Axes>"
      ]
     },
     "metadata": {},
     "output_type": "display_data"
    }
   ],
   "source": [
    "pd.DataFrame(w_gradient_history).plot()\n",
    "plt.title('Gradient of w over history')"
   ]
  },
  {
   "cell_type": "code",
   "execution_count": 90,
   "metadata": {},
   "outputs": [
    {
     "data": {
      "text/plain": [
       "Text(0.5, 1.0, 'Weight (w) value over history')"
      ]
     },
     "execution_count": 90,
     "metadata": {},
     "output_type": "execute_result"
    },
    {
     "data": {
      "image/png": "[encoded data removed]",
      "text/plain": [
       "<Figure size 640x480 with 1 Axes>"
      ]
     },
     "metadata": {},
     "output_type": "display_data"
    }
   ],
   "source": [
    "pd.DataFrame(w_history).plot()\n",
    "plt.title('Weight (w) value over history')"
   ]
  },
  {
   "cell_type": "code",
   "execution_count": 91,
   "metadata": {},
   "outputs": [
    {
     "data": {
      "text/plain": [
       "Text(0.5, 1.0, 'Bias (b) history')"
      ]
     },
     "execution_count": 91,
     "metadata": {},
     "output_type": "execute_result"
    },
    {
     "data": {
      "image/png": "[encoded data removed]",
      "text/plain": [
       "<Figure size 640x480 with 1 Axes>"
      ]
     },
     "metadata": {},
     "output_type": "display_data"
    }
   ],
   "source": [
    "pd.DataFrame(b_history).plot()\n",
    "plt.title('Bias (b) history')"
   ]
  }
 ],
 "metadata": {
  "kernelspec": {
   "display_name": "base",
   "language": "python",
   "name": "python3"
  },
  "language_info": {
   "codemirror_mode": {
    "name": "ipython",
    "version": 3
   },
   "file_extension": ".py",
   "mimetype": "text/x-python",
   "name": "python",
   "nbconvert_exporter": "python",
   "pygments_lexer": "ipython3",
   "version": "3.12.4"
  }
 },
 "nbformat": 4,
 "nbformat_minor": 2
}
