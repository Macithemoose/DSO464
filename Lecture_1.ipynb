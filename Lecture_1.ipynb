{
 "cells": [
  {
   "cell_type": "markdown",
   "metadata": {},
   "source": [
    "**Unit 1:**  \n",
    "**Business Applications:**  \n",
    "- Dynamic pricing  \n",
    "- Demand Forecasting  \n",
    "\n",
    "**Deep Learning & AI:**  \n",
    "- Perceptrons  \n",
    "- PCA  \n",
    "- Gradient Descent  \n",
    "\n",
    "**Implementations:**  \n",
    "- Pandas  \n",
    "- TensorFlow  \n",
    "- Keras (basic)"
   ]
  },
  {
   "cell_type": "markdown",
   "metadata": {},
   "source": [
    "**Unit 2:**  \n",
    "**Business Applications:**  \n",
    "- Predicting S&P500 Returns and Risk for Asset and Wealth Management\n",
    "\n",
    "**Deep Learning & AI:**  \n",
    "- Dense networks  \n",
    "- Learning, Backpropagation  \n",
    "- Dense configurations\n",
    "\n",
    "**Implementations:**  \n",
    "- Keras Sequential and Functional APIs"
   ]
  },
  {
   "cell_type": "markdown",
   "metadata": {},
   "source": [
    "**Unit 3:**  \n",
    "**Business Applications:**  \n",
    "- Recommender Systems  \n",
    "- Image Segmantation\n",
    "\n",
    "**Deep Learning & AI:**  \n",
    "- Convolutional NN\n",
    "\n",
    "**Implementations:**  \n",
    "- More Keras"
   ]
  },
  {
   "cell_type": "markdown",
   "metadata": {},
   "source": [
    "**Unit 4:**  \n",
    "**Business Applications:**  \n",
    "- Text Applications/GPT\n",
    "\n",
    "**Deep Learning & AI:**  \n",
    "- Transformers  \n",
    "- Sequential NNs\n",
    "\n",
    "**Implementations:**  \n",
    "- Huggingface"
   ]
  },
  {
   "cell_type": "code",
   "execution_count": 3,
   "metadata": {},
   "outputs": [],
   "source": [
    "import os\n",
    "import os.path\n",
    "import time\n",
    "from datetime import datetime\n",
    "\n",
    "import numpy as np\n",
    "import pandas as pd\n",
    "import seaborn as sns\n",
    "import matplotlib.pyplot as plt\n",
    "\n",
    "import tensorflow as tf\n",
    "import cvxpy as cp\n",
    "\n",
    "tf.keras.utils.set_random_seed(42)"
   ]
  },
  {
   "cell_type": "code",
   "execution_count": null,
   "metadata": {},
   "outputs": [],
   "source": []
  }
 ],
 "metadata": {
  "kernelspec": {
   "display_name": "base",
   "language": "python",
   "name": "python3"
  },
  "language_info": {
   "codemirror_mode": {
    "name": "ipython",
    "version": 3
   },
   "file_extension": ".py",
   "mimetype": "text/x-python",
   "name": "python",
   "nbconvert_exporter": "python",
   "pygments_lexer": "ipython3",
   "version": "3.12.4"
  }
 },
 "nbformat": 4,
 "nbformat_minor": 2
}
