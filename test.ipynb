{
 "cells": [
  {
   "cell_type": "code",
   "execution_count": 5,
   "metadata": {},
   "outputs": [],
   "source": [
    "def solution(U, weight):\n",
    "    queue = weight[:]\n",
    "    removed = 0\n",
    "    \n",
    "    i = 0\n",
    "    while i < len(queue) - 1:\n",
    "        if queue[i] + queue[i + 1] > U:\n",
    "            queue.pop(i + 1)\n",
    "            removed += 1\n",
    "        else:\n",
    "            i += 1\n",
    "    \n",
    "    return removed + (1 if queue and queue[0] > U else 0)"
   ]
  },
  {
   "cell_type": "code",
   "execution_count": 6,
   "metadata": {},
   "outputs": [
    {
     "data": {
      "text/plain": [
       "10"
      ]
     },
     "execution_count": 6,
     "metadata": {},
     "output_type": "execute_result"
    }
   ],
   "source": [
    "ans = solution(2, [3,7,5,5,6,3,9,10,8,4])\n",
    "ans"
   ]
  },
  {
   "cell_type": "code",
   "execution_count": 7,
   "metadata": {},
   "outputs": [
    {
     "name": "stdout",
     "output_type": "stream",
     "text": [
      "4\n"
     ]
    }
   ],
   "source": [
    "U = 9\n",
    "weight = [5, 3, 8, 1, 8, 7, 7, 6]\n",
    "print(solution(U, weight))  # Output: 4"
   ]
  },
  {
   "cell_type": "code",
   "execution_count": 15,
   "metadata": {},
   "outputs": [],
   "source": [
    "def solution(U, weight):\n",
    "    queue = weight[:]\n",
    "    removed = 0\n",
    "    i = 0\n",
    "    \n",
    "    while i < len(queue) - 1:\n",
    "        if queue[i] + queue[i + 1] > U:\n",
    "            if queue[i] > queue[i + 1]:\n",
    "                queue.pop(i)\n",
    "            else:\n",
    "                queue.pop(i + 1)\n",
    "            removed += 1\n",
    "        else:\n",
    "            i += 1\n",
    "    \n",
    "    return removed"
   ]
  },
  {
   "cell_type": "code",
   "execution_count": 16,
   "metadata": {},
   "outputs": [
    {
     "name": "stdout",
     "output_type": "stream",
     "text": [
      "5\n"
     ]
    }
   ],
   "source": [
    "U = 7\n",
    "weight = [7, 6, 5, 2, 7, 4, 5, 4]\n",
    "print(solution(U, weight))"
   ]
  },
  {
   "cell_type": "code",
   "execution_count": 17,
   "metadata": {},
   "outputs": [
    {
     "data": {
      "text/plain": [
       "9"
      ]
     },
     "execution_count": 17,
     "metadata": {},
     "output_type": "execute_result"
    }
   ],
   "source": [
    "ans = solution(2, [3,7,5,5,6,3,9,10,8,4])\n",
    "ans"
   ]
  },
  {
   "cell_type": "code",
   "execution_count": 73,
   "metadata": {},
   "outputs": [],
   "source": [
    "def solution(U, weight):\n",
    "    queue = weight[:]  # Create a copy of the weight list\n",
    "    removed = 0  # Count of drivers who must turn back\n",
    "\n",
    "    i = 0\n",
    "    while i < len(queue) - 1:  # Process until at most one car remains\n",
    "        if queue[i] + queue[i + 1] > U:  # If the next pair exceeds the weight limit\n",
    "            if i + 2 < len(queue) and queue[i] + queue[i + 2] <= U:  # Check if skipping the next car helps\n",
    "                removed += 1\n",
    "                queue.pop(i + 1)\n",
    "            else:\n",
    "                removed += 1\n",
    "                queue.pop(i)  # Remove the first car in the pair\n",
    "        else:\n",
    "            i += 1  # Move to the next pair\n",
    "    \n",
    "    removed += sum(1 for car in queue if car > U)  # Remove any remaining overweight cars\n",
    "\n",
    "        \n",
    "    return removed"
   ]
  },
  {
   "cell_type": "code",
   "execution_count": 76,
   "metadata": {},
   "outputs": [
    {
     "name": "stdout",
     "output_type": "stream",
     "text": [
      "55497\n"
     ]
    }
   ],
   "source": [
    "import random\n",
    "U = 50\n",
    "weight = [random.randint(1, 60) for _ in range(10**5)]  # 100,000 random car weights between 1 and 60\n",
    "print(solution(U, weight))"
   ]
  },
  {
   "cell_type": "code",
   "execution_count": 50,
   "metadata": {},
   "outputs": [
    {
     "name": "stdout",
     "output_type": "stream",
     "text": [
      "4\n"
     ]
    }
   ],
   "source": [
    "U = 9\n",
    "weight = [5, 3, 8, 1, 8, 7, 7, 6]\n",
    "print(solution(U, weight))"
   ]
  },
  {
   "cell_type": "code",
   "execution_count": 51,
   "metadata": {},
   "outputs": [
    {
     "name": "stdout",
     "output_type": "stream",
     "text": [
      "0\n"
     ]
    }
   ],
   "source": [
    "U = 7\n",
    "weight = [3, 4, 3, 1]\n",
    "print(solution(U, weight))"
   ]
  },
  {
   "cell_type": "code",
   "execution_count": 52,
   "metadata": {},
   "outputs": [
    {
     "name": "stdout",
     "output_type": "stream",
     "text": [
      "2\n"
     ]
    }
   ],
   "source": [
    "U = 7\n",
    "weight = [3, 4, 10, 5, 2]\n",
    "print(solution(U, weight))"
   ]
  },
  {
   "cell_type": "code",
   "execution_count": 65,
   "metadata": {},
   "outputs": [],
   "source": [
    "def solution(U, weight):\n",
    "    queue = [car for car in weight if car <= U]  # Remove overweight cars first\n",
    "    removed = len(weight) - len(queue)  # Count of removed cars\n",
    "    \n",
    "    if len(queue) == 0:\n",
    "        return removed  # If no cars remain, return early\n",
    "    \n",
    "    left = 0\n",
    "    right = 1\n",
    "    \n",
    "    while right < len(queue):\n",
    "        if queue[left] + queue[right] > U:  # If the pair exceeds the weight limit\n",
    "            removed += 1\n",
    "            queue.pop(right)  # Remove the heavier car\n",
    "        else:\n",
    "            left = right\n",
    "            right += 1  # Move both pointers forward\n",
    "    \n",
    "    return removed"
   ]
  },
  {
   "cell_type": "code",
   "execution_count": 67,
   "metadata": {},
   "outputs": [
    {
     "data": {
      "text/plain": [
       "10"
      ]
     },
     "execution_count": 67,
     "metadata": {},
     "output_type": "execute_result"
    }
   ],
   "source": [
    "ans = solution(2, [3,7,5,5,6,3,9,10,8,4])\n",
    "ans"
   ]
  },
  {
   "cell_type": "code",
   "execution_count": 68,
   "metadata": {},
   "outputs": [
    {
     "name": "stdout",
     "output_type": "stream",
     "text": [
      "7\n"
     ]
    }
   ],
   "source": [
    "U = 7\n",
    "weight = [7, 6, 5, 2, 7, 4, 5, 4]\n",
    "print(solution(U, weight))"
   ]
  },
  {
   "cell_type": "code",
   "execution_count": 69,
   "metadata": {},
   "outputs": [
    {
     "name": "stdout",
     "output_type": "stream",
     "text": [
      "4\n"
     ]
    }
   ],
   "source": [
    "U = 9\n",
    "weight = [5, 3, 8, 1, 8, 7, 7, 6]\n",
    "print(solution(U, weight))"
   ]
  },
  {
   "cell_type": "code",
   "execution_count": 70,
   "metadata": {},
   "outputs": [
    {
     "name": "stdout",
     "output_type": "stream",
     "text": [
      "0\n"
     ]
    }
   ],
   "source": [
    "U = 7\n",
    "weight = [3, 4, 3, 1]\n",
    "print(solution(U, weight))"
   ]
  },
  {
   "cell_type": "code",
   "execution_count": 71,
   "metadata": {},
   "outputs": [
    {
     "name": "stdout",
     "output_type": "stream",
     "text": [
      "2\n"
     ]
    }
   ],
   "source": [
    "U = 7\n",
    "weight = [3, 4, 10, 5, 2]\n",
    "print(solution(U, weight))"
   ]
  },
  {
   "cell_type": "code",
   "execution_count": 72,
   "metadata": {},
   "outputs": [
    {
     "name": "stdout",
     "output_type": "stream",
     "text": [
      "1\n"
     ]
    }
   ],
   "source": [
    "U = 1\n",
    "weight = [1, 2]\n",
    "print(solution(U, weight))"
   ]
  },
  {
   "cell_type": "code",
   "execution_count": 79,
   "metadata": {},
   "outputs": [],
   "source": [
    "def solution(U, weight):\n",
    "    N = len(weight)\n",
    "    if N == 0:\n",
    "        return 0\n",
    "\n",
    "    dp = [0] * N  # dp[i] = max safe subsequence ending at i.\n",
    "    best = 0\n",
    "    for i in range(N):\n",
    "        dp[i] = 1  # At least car i can go alone.\n",
    "        for j in range(i):\n",
    "            if weight[j] <= U - weight[i]:\n",
    "                dp[i] = max(dp[i], dp[j] + 1)\n",
    "        best = max(best, dp[i])\n",
    "    return N - best"
   ]
  },
  {
   "cell_type": "code",
   "execution_count": 80,
   "metadata": {},
   "outputs": [
    {
     "name": "stdout",
     "output_type": "stream",
     "text": [
      "0\n"
     ]
    }
   ],
   "source": [
    "U = 7\n",
    "weight = [3, 4, 3, 1]\n",
    "print(solution(U, weight))"
   ]
  },
  {
   "cell_type": "code",
   "execution_count": 81,
   "metadata": {},
   "outputs": [
    {
     "name": "stdout",
     "output_type": "stream",
     "text": [
      "4\n"
     ]
    }
   ],
   "source": [
    "U = 9\n",
    "weight = [5, 3, 8, 1, 8, 7, 7, 6]\n",
    "print(solution(U, weight))"
   ]
  },
  {
   "cell_type": "code",
   "execution_count": 82,
   "metadata": {},
   "outputs": [
    {
     "data": {
      "text/plain": [
       "9"
      ]
     },
     "execution_count": 82,
     "metadata": {},
     "output_type": "execute_result"
    }
   ],
   "source": [
    "ans = solution(2, [3,7,5,5,6,3,9,10,8,4])\n",
    "ans"
   ]
  },
  {
   "cell_type": "code",
   "execution_count": null,
   "metadata": {},
   "outputs": [],
   "source": []
  }
 ],
 "metadata": {
  "kernelspec": {
   "display_name": "base",
   "language": "python",
   "name": "python3"
  },
  "language_info": {
   "codemirror_mode": {
    "name": "ipython",
    "version": 3
   },
   "file_extension": ".py",
   "mimetype": "text/x-python",
   "name": "python",
   "nbconvert_exporter": "python",
   "pygments_lexer": "ipython3",
   "version": "3.12.4"
  }
 },
 "nbformat": 4,
 "nbformat_minor": 2
}
